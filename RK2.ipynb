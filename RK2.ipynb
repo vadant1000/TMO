{
 "cells":[
  {
   "cell_type":"markdown",
   "source":[
    "# RK 2\n",
    "# Антропов В. И. РТ5-61Б Вариант 3"
   ],
   "attachments":{
    
   },
   "metadata":{
    "datalore":{
     "node_id":"91wf6IrIHJrryQ4IWQNnCU",
     "type":"MD",
     "hide_input_from_viewers":true,
     "hide_output_from_viewers":true
    }
   }
  },
  {
   "cell_type":"code",
   "source":[
    "import pandas as pd\n",
    "import warnings\n",
    "warnings.filterwarnings(\"ignore\")\n",
    "import matplotlib.pyplot as plt\n",
    "import seaborn as sns\n",
    "import numpy as np\n",
    "from sklearn.metrics import mean_absolute_error, mean_squared_error, median_absolute_error, r2_score\n",
    "from sklearn.preprocessing import MinMaxScaler\n",
    "from sklearn.neighbors import KNeighborsRegressor, KNeighborsClassifier\n",
    "from sklearn.model_selection import train_test_split, GridSearchCV\n",
    "from sklearn.impute import SimpleImputer, MissingIndicator\n",
    "from sklearn.preprocessing import LabelEncoder, OneHotEncoder, MinMaxScaler\n",
    "from sklearn.model_selection import StratifiedKFold\n",
    "from sklearn.model_selection import cross_val_score"
   ],
   "execution_count":1,
   "outputs":[
    
   ],
   "metadata":{
    "datalore":{
     "node_id":"OXr61vCqS1rNvcQtEbzUe9",
     "type":"CODE",
     "hide_input_from_viewers":true,
     "hide_output_from_viewers":true
    }
   }
  },
  {
   "cell_type":"code",
   "source":[
    "df = pd.read_csv('\/data\/notebook_files\/HousingData.csv')"
   ],
   "execution_count":2,
   "outputs":[
    
   ],
   "metadata":{
    "datalore":{
     "node_id":"Xi3bI5v1En7Mxpr14xPYm0",
     "type":"CODE",
     "hide_input_from_viewers":true,
     "hide_output_from_viewers":true
    }
   }
  },
  {
   "cell_type":"code",
   "source":[
    "df.head()"
   ],
   "execution_count":3,
   "outputs":[
    {
     "data":{
      "text\/html":[
       "<div>\n",
       "<style scoped>\n",
       "    .dataframe tbody tr th:only-of-type {\n",
       "        vertical-align: middle;\n",
       "    }\n",
       "\n",
       "    .dataframe tbody tr th {\n",
       "        vertical-align: top;\n",
       "    }\n",
       "\n",
       "    .dataframe thead th {\n",
       "        text-align: right;\n",
       "    }\n",
       "<\/style>\n",
       "<table border=\"1\" class=\"dataframe\">\n",
       "  <thead>\n",
       "    <tr style=\"text-align: right;\">\n",
       "      <th><\/th>\n",
       "      <th>CRIM<\/th>\n",
       "      <th>ZN<\/th>\n",
       "      <th>INDUS<\/th>\n",
       "      <th>CHAS<\/th>\n",
       "      <th>NOX<\/th>\n",
       "      <th>RM<\/th>\n",
       "      <th>AGE<\/th>\n",
       "      <th>DIS<\/th>\n",
       "      <th>RAD<\/th>\n",
       "      <th>TAX<\/th>\n",
       "      <th>PTRATIO<\/th>\n",
       "      <th>B<\/th>\n",
       "      <th>LSTAT<\/th>\n",
       "      <th>MEDV<\/th>\n",
       "    <\/tr>\n",
       "  <\/thead>\n",
       "  <tbody>\n",
       "    <tr>\n",
       "      <th>0<\/th>\n",
       "      <td>0.00632<\/td>\n",
       "      <td>18.0<\/td>\n",
       "      <td>2.31<\/td>\n",
       "      <td>0.0<\/td>\n",
       "      <td>0.538<\/td>\n",
       "      <td>6.575<\/td>\n",
       "      <td>65.2<\/td>\n",
       "      <td>4.0900<\/td>\n",
       "      <td>1<\/td>\n",
       "      <td>296<\/td>\n",
       "      <td>15.3<\/td>\n",
       "      <td>396.90<\/td>\n",
       "      <td>4.98<\/td>\n",
       "      <td>24.0<\/td>\n",
       "    <\/tr>\n",
       "    <tr>\n",
       "      <th>1<\/th>\n",
       "      <td>0.02731<\/td>\n",
       "      <td>0.0<\/td>\n",
       "      <td>7.07<\/td>\n",
       "      <td>0.0<\/td>\n",
       "      <td>0.469<\/td>\n",
       "      <td>6.421<\/td>\n",
       "      <td>78.9<\/td>\n",
       "      <td>4.9671<\/td>\n",
       "      <td>2<\/td>\n",
       "      <td>242<\/td>\n",
       "      <td>17.8<\/td>\n",
       "      <td>396.90<\/td>\n",
       "      <td>9.14<\/td>\n",
       "      <td>21.6<\/td>\n",
       "    <\/tr>\n",
       "    <tr>\n",
       "      <th>2<\/th>\n",
       "      <td>0.02729<\/td>\n",
       "      <td>0.0<\/td>\n",
       "      <td>7.07<\/td>\n",
       "      <td>0.0<\/td>\n",
       "      <td>0.469<\/td>\n",
       "      <td>7.185<\/td>\n",
       "      <td>61.1<\/td>\n",
       "      <td>4.9671<\/td>\n",
       "      <td>2<\/td>\n",
       "      <td>242<\/td>\n",
       "      <td>17.8<\/td>\n",
       "      <td>392.83<\/td>\n",
       "      <td>4.03<\/td>\n",
       "      <td>34.7<\/td>\n",
       "    <\/tr>\n",
       "    <tr>\n",
       "      <th>3<\/th>\n",
       "      <td>0.03237<\/td>\n",
       "      <td>0.0<\/td>\n",
       "      <td>2.18<\/td>\n",
       "      <td>0.0<\/td>\n",
       "      <td>0.458<\/td>\n",
       "      <td>6.998<\/td>\n",
       "      <td>45.8<\/td>\n",
       "      <td>6.0622<\/td>\n",
       "      <td>3<\/td>\n",
       "      <td>222<\/td>\n",
       "      <td>18.7<\/td>\n",
       "      <td>394.63<\/td>\n",
       "      <td>2.94<\/td>\n",
       "      <td>33.4<\/td>\n",
       "    <\/tr>\n",
       "    <tr>\n",
       "      <th>4<\/th>\n",
       "      <td>0.06905<\/td>\n",
       "      <td>0.0<\/td>\n",
       "      <td>2.18<\/td>\n",
       "      <td>0.0<\/td>\n",
       "      <td>0.458<\/td>\n",
       "      <td>7.147<\/td>\n",
       "      <td>54.2<\/td>\n",
       "      <td>6.0622<\/td>\n",
       "      <td>3<\/td>\n",
       "      <td>222<\/td>\n",
       "      <td>18.7<\/td>\n",
       "      <td>396.90<\/td>\n",
       "      <td>NaN<\/td>\n",
       "      <td>36.2<\/td>\n",
       "    <\/tr>\n",
       "  <\/tbody>\n",
       "<\/table>\n",
       "<\/div>"
      ]
     },
     "metadata":{
      
     },
     "output_type":"display_data"
    }
   ],
   "metadata":{
    "datalore":{
     "node_id":"4KV8SuPNfsrA9WxSDm7iyl",
     "type":"CODE",
     "hide_input_from_viewers":true,
     "hide_output_from_viewers":true
    }
   }
  },
  {
   "cell_type":"code",
   "source":[
    "df.info()"
   ],
   "execution_count":4,
   "outputs":[
    {
     "name":"stdout",
     "text":[
      "<class 'pandas.core.frame.DataFrame'>\n",
      "RangeIndex: 506 entries, 0 to 505\n",
      "Data columns (total 14 columns):\n",
      " #   Column   Non-Null Count  Dtype  \n",
      "---  ------   --------------  -----  \n",
      " 0   CRIM     486 non-null    float64\n",
      " 1   ZN       486 non-null    float64\n",
      " 2   INDUS    486 non-null    float64\n",
      " 3   CHAS     486 non-null    float64\n",
      " 4   NOX      506 non-null    float64\n",
      " 5   RM       506 non-null    float64\n",
      " 6   AGE      486 non-null    float64\n",
      " 7   DIS      506 non-null    float64\n",
      " 8   RAD      506 non-null    int64  \n",
      " 9   TAX      506 non-null    int64  \n",
      " 10  PTRATIO  506 non-null    float64\n",
      " 11  B        506 non-null    float64\n",
      " 12  LSTAT    486 non-null    float64\n",
      " 13  MEDV     506 non-null    float64\n",
      "dtypes: float64(12), int64(2)\n",
      "memory usage: 55.5 KB\n"
     ],
     "output_type":"stream"
    }
   ],
   "metadata":{
    "datalore":{
     "node_id":"EGf1xlktVtValMOYrFj7NH",
     "type":"CODE",
     "hide_input_from_viewers":true,
     "hide_output_from_viewers":true
    }
   }
  },
  {
   "cell_type":"code",
   "source":[
    "\n",
    "\n",
    "df.isnull().sum()\n"
   ],
   "execution_count":5,
   "outputs":[
    {
     "data":{
      "text\/html":[
       "<pre>CRIM       20\n",
       "ZN         20\n",
       "INDUS      20\n",
       "CHAS       20\n",
       "NOX         0\n",
       "RM          0\n",
       "AGE        20\n",
       "DIS         0\n",
       "RAD         0\n",
       "TAX         0\n",
       "PTRATIO     0\n",
       "B           0\n",
       "LSTAT      20\n",
       "MEDV        0\n",
       "dtype: int64<\/pre>"
      ]
     },
     "metadata":{
      
     },
     "output_type":"display_data"
    }
   ],
   "metadata":{
    "datalore":{
     "node_id":"LJrUb4bWHKRiy7DtQQRFa7",
     "type":"CODE",
     "hide_input_from_viewers":true,
     "hide_output_from_viewers":true
    }
   }
  },
  {
   "cell_type":"code",
   "source":[
    "df = df.dropna()"
   ],
   "execution_count":6,
   "outputs":[
    
   ],
   "metadata":{
    "datalore":{
     "node_id":"nlMxyjqYZCurL6cDHfRkg3",
     "type":"CODE",
     "hide_input_from_viewers":true,
     "hide_output_from_viewers":true
    }
   }
  },
  {
   "cell_type":"code",
   "source":[
    "corr = df.corr()\n",
    "sns.heatmap(corr, linewidths=.5, annot=True, fmt=\".2f\")\n",
    "plt.show()"
   ],
   "execution_count":9,
   "outputs":[
    {
     "data":{
      "image\/png":"[encoded data removed]"
     },
     "metadata":{
      "image\/png":{
       
      }
     },
     "output_type":"display_data"
    }
   ],
   "metadata":{
    "datalore":{
     "node_id":"6ycklegY8uHrRsh9aB2JeB",
     "type":"CODE",
     "hide_input_from_viewers":true,
     "hide_output_from_viewers":true
    }
   }
  },
  {
   "cell_type":"markdown",
   "source":[
    "#\n",
    "С целевым признаĸом \"MEDV\" наиболее ĸоррелируют признаĸи\n",
    "\"RM\", \"PTRATIO\" , \"LSTAT\". При построении модели машинного обучения перечисленные признаĸи будут наиболее информативными. Стоит отметить ĸорреляцию признаĸов \"SOP\" и \"University Rating\". 2) Можно построить модель машинного обучения на основе признаĸов \"RM\", \"PTRATIO\", \"LSTAT\", \"TAX\", \"INDUS\". Первые 3 признаĸа наиболее сильно повлияют на результат ввиду их высоĸой ĸорреляции. Обученные модели позволят выбрать недвижимость."
   ],
   "attachments":{
    
   },
   "metadata":{
    "datalore":{
     "node_id":"PgCGmMd6POaujX1ZL7PxqC",
     "type":"MD",
     "hide_input_from_viewers":true,
     "hide_output_from_viewers":true
    }
   }
  },
  {
   "cell_type":"markdown",
   "source":[
    "# Разделение данных\n",
    "\n",
    "Разделим данные на целевой столбец и признаĸи При построении предсĸазательных моделей исходные данные обычно разбиваются на обучающую (\"training set\") и ĸонтрольную (\"test set\") выборĸи."
   ],
   "attachments":{
    
   },
   "metadata":{
    "datalore":{
     "node_id":"02vQtR7Sj61NaIGNo04fzZ",
     "type":"MD",
     "hide_input_from_viewers":true,
     "hide_output_from_viewers":true
    }
   }
  },
  {
   "cell_type":"code",
   "source":[
    "X = df.drop(['MEDV'], axis=1) #Наименования признаков\n",
    "Y = df['MEDV'] # Значения признаков"
   ],
   "execution_count":10,
   "outputs":[
    
   ],
   "metadata":{
    "datalore":{
     "node_id":"hR1lUTzkTSp0k0RXP2Yc3R",
     "type":"CODE",
     "hide_input_from_viewers":true,
     "hide_output_from_viewers":true
    }
   }
  },
  {
   "cell_type":"code",
   "source":[
    "le = LabelEncoder()\n",
    "Y = le.fit_transform(Y)"
   ],
   "execution_count":11,
   "outputs":[
    
   ],
   "metadata":{
    "datalore":{
     "node_id":"W1E7RkaOJWb19CUES8Y5dh",
     "type":"CODE",
     "hide_input_from_viewers":true,
     "hide_output_from_viewers":true
    }
   }
  },
  {
   "cell_type":"code",
   "source":[
    "X_train,  X_test,  Y_train,  Y_test = train_test_split(X,  Y, test_size = 0.2)"
   ],
   "execution_count":12,
   "outputs":[
    
   ],
   "metadata":{
    "datalore":{
     "node_id":"tUuwC7pNTL8BxqM1VgbrPK",
     "type":"CODE",
     "hide_input_from_viewers":true,
     "hide_output_from_viewers":true
    }
   }
  },
  {
   "cell_type":"code",
   "source":[
    "X_train.shape, Y_train.shape"
   ],
   "execution_count":13,
   "outputs":[
    {
     "data":{
      "text\/plain":[
       "((315, 13), (315,))"
      ]
     },
     "metadata":{
      
     },
     "output_type":"display_data"
    }
   ],
   "metadata":{
    "datalore":{
     "node_id":"LiflRuLzqUeVqYrPBsMRnw",
     "type":"CODE",
     "hide_input_from_viewers":true,
     "hide_output_from_viewers":true
    }
   }
  },
  {
   "cell_type":"code",
   "source":[
    "X_test.shape, Y_test.shape"
   ],
   "execution_count":14,
   "outputs":[
    {
     "data":{
      "text\/plain":[
       "((79, 13), (79,))"
      ]
     },
     "metadata":{
      
     },
     "output_type":"display_data"
    }
   ],
   "metadata":{
    "datalore":{
     "node_id":"w4paQ6Zb2e5tC9GEeBOYIY",
     "type":"CODE",
     "hide_input_from_viewers":true,
     "hide_output_from_viewers":true
    }
   }
  },
  {
   "cell_type":"markdown",
   "source":[
    "# Дерево решений"
   ],
   "attachments":{
    
   },
   "metadata":{
    "datalore":{
     "node_id":"zd6wJwR7G3HzkywkzhZXeQ",
     "type":"MD",
     "hide_input_from_viewers":true,
     "hide_output_from_viewers":true
    }
   }
  },
  {
   "cell_type":"code",
   "source":[
    "from sklearn.linear_model import LinearRegression\n",
    "from sklearn.metrics import mean_squared_error,accuracy_score\n",
    "from sklearn.svm import SVC, NuSVC, LinearSVC\n",
    "from sklearn.tree import DecisionTreeClassifier, DecisionTreeRegressor\n",
    "from sklearn.model_selection import GridSearchCV\n",
    "from sklearn import tree\n",
    "from IPython.core.display import HTML\n",
    "from sklearn.tree import export_text\n",
    "from operator import itemgetter"
   ],
   "execution_count":15,
   "outputs":[
    
   ],
   "metadata":{
    "datalore":{
     "node_id":"wTMLeV0Z3xoQ85BnFefwmH",
     "type":"CODE",
     "hide_input_from_viewers":true,
     "hide_output_from_viewers":true
    }
   }
  },
  {
   "cell_type":"code",
   "source":[
    "dt_none = DecisionTreeRegressor(max_depth=5)\n",
    "dt_none.fit(X_train, Y_train)"
   ],
   "execution_count":16,
   "outputs":[
    {
     "data":{
      "text\/html":[
       "<style>#sk-container-id-1 {color: black;background-color: white;}#sk-container-id-1 pre{padding: 0;}#sk-container-id-1 div.sk-toggleable {background-color: white;}#sk-container-id-1 label.sk-toggleable__label {cursor: pointer;display: block;width: 100%;margin-bottom: 0;padding: 0.3em;box-sizing: border-box;text-align: center;}#sk-container-id-1 label.sk-toggleable__label-arrow:before {content: \"▸\";float: left;margin-right: 0.25em;color: #696969;}#sk-container-id-1 label.sk-toggleable__label-arrow:hover:before {color: black;}#sk-container-id-1 div.sk-estimator:hover label.sk-toggleable__label-arrow:before {color: black;}#sk-container-id-1 div.sk-toggleable__content {max-height: 0;max-width: 0;overflow: hidden;text-align: left;background-color: #f0f8ff;}#sk-container-id-1 div.sk-toggleable__content pre {margin: 0.2em;color: black;border-radius: 0.25em;background-color: #f0f8ff;}#sk-container-id-1 input.sk-toggleable__control:checked~div.sk-toggleable__content {max-height: 200px;max-width: 100%;overflow: auto;}#sk-container-id-1 input.sk-toggleable__control:checked~label.sk-toggleable__label-arrow:before {content: \"▾\";}#sk-container-id-1 div.sk-estimator input.sk-toggleable__control:checked~label.sk-toggleable__label {background-color: #d4ebff;}#sk-container-id-1 div.sk-label input.sk-toggleable__control:checked~label.sk-toggleable__label {background-color: #d4ebff;}#sk-container-id-1 input.sk-hidden--visually {border: 0;clip: rect(1px 1px 1px 1px);clip: rect(1px, 1px, 1px, 1px);height: 1px;margin: -1px;overflow: hidden;padding: 0;position: absolute;width: 1px;}#sk-container-id-1 div.sk-estimator {font-family: monospace;background-color: #f0f8ff;border: 1px dotted black;border-radius: 0.25em;box-sizing: border-box;margin-bottom: 0.5em;}#sk-container-id-1 div.sk-estimator:hover {background-color: #d4ebff;}#sk-container-id-1 div.sk-parallel-item::after {content: \"\";width: 100%;border-bottom: 1px solid gray;flex-grow: 1;}#sk-container-id-1 div.sk-label:hover label.sk-toggleable__label {background-color: #d4ebff;}#sk-container-id-1 div.sk-serial::before {content: \"\";position: absolute;border-left: 1px solid gray;box-sizing: border-box;top: 0;bottom: 0;left: 50%;z-index: 0;}#sk-container-id-1 div.sk-serial {display: flex;flex-direction: column;align-items: center;background-color: white;padding-right: 0.2em;padding-left: 0.2em;position: relative;}#sk-container-id-1 div.sk-item {position: relative;z-index: 1;}#sk-container-id-1 div.sk-parallel {display: flex;align-items: stretch;justify-content: center;background-color: white;position: relative;}#sk-container-id-1 div.sk-item::before, #sk-container-id-1 div.sk-parallel-item::before {content: \"\";position: absolute;border-left: 1px solid gray;box-sizing: border-box;top: 0;bottom: 0;left: 50%;z-index: -1;}#sk-container-id-1 div.sk-parallel-item {display: flex;flex-direction: column;z-index: 1;position: relative;background-color: white;}#sk-container-id-1 div.sk-parallel-item:first-child::after {align-self: flex-end;width: 50%;}#sk-container-id-1 div.sk-parallel-item:last-child::after {align-self: flex-start;width: 50%;}#sk-container-id-1 div.sk-parallel-item:only-child::after {width: 0;}#sk-container-id-1 div.sk-dashed-wrapped {border: 1px dashed gray;margin: 0 0.4em 0.5em 0.4em;box-sizing: border-box;padding-bottom: 0.4em;background-color: white;}#sk-container-id-1 div.sk-label label {font-family: monospace;font-weight: bold;display: inline-block;line-height: 1.2em;}#sk-container-id-1 div.sk-label-container {text-align: center;}#sk-container-id-1 div.sk-container {\/* jupyter's `normalize.less` sets `[hidden] { display: none; }` but bootstrap.min.css set `[hidden] { display: none !important; }` so we also need the `!important` here to be able to override the default hidden behavior on the sphinx rendered scikit-learn.org. See: https:\/\/github.com\/scikit-learn\/scikit-learn\/issues\/21755 *\/display: inline-block !important;position: relative;}#sk-container-id-1 div.sk-text-repr-fallback {display: none;}<\/style><div id=\"sk-container-id-1\" class=\"sk-top-container\"><div class=\"sk-text-repr-fallback\"><pre>DecisionTreeRegressor(max_depth=5)<\/pre><b>In a Jupyter environment, please rerun this cell to show the HTML representation or trust the notebook. <br \/>On GitHub, the HTML representation is unable to render, please try loading this page with nbviewer.org.<\/b><\/div><div class=\"sk-container\" hidden><div class=\"sk-item\"><div class=\"sk-estimator sk-toggleable\"><input class=\"sk-toggleable__control sk-hidden--visually\" id=\"sk-estimator-id-1\" type=\"checkbox\" checked><label for=\"sk-estimator-id-1\" class=\"sk-toggleable__label sk-toggleable__label-arrow\">DecisionTreeRegressor<\/label><div class=\"sk-toggleable__content\"><pre>DecisionTreeRegressor(max_depth=5)<\/pre><\/div><\/div><\/div><\/div><\/div>"
      ]
     },
     "metadata":{
      
     },
     "output_type":"display_data"
    }
   ],
   "metadata":{
    "datalore":{
     "node_id":"mf2NZvs9BdGsbf13tMXz1J",
     "type":"CODE",
     "hide_input_from_viewers":true,
     "hide_output_from_viewers":true
    }
   }
  },
  {
   "cell_type":"code",
   "source":[
    "tree.plot_tree(dt_none);"
   ],
   "execution_count":18,
   "outputs":[
    {
     "data":{
      "image\/png":"[encoded data removed]"
     },
     "metadata":{
      "image\/png":{
       
      }
     },
     "output_type":"display_data"
    }
   ],
   "metadata":{
    "datalore":{
     "node_id":"Q3fDvBZY2pXbnUpYDiBsKA",
     "type":"CODE",
     "hide_input_from_viewers":true,
     "hide_output_from_viewers":true
    }
   }
  },
  {
   "cell_type":"code",
   "source":[
    "clf = DecisionTreeClassifier(random_state=1)\n",
    "clf.fit(X_train, Y_train)"
   ],
   "execution_count":19,
   "outputs":[
    {
     "data":{
      "text\/html":[
       "<style>#sk-container-id-2 {color: black;background-color: white;}#sk-container-id-2 pre{padding: 0;}#sk-container-id-2 div.sk-toggleable {background-color: white;}#sk-container-id-2 label.sk-toggleable__label {cursor: pointer;display: block;width: 100%;margin-bottom: 0;padding: 0.3em;box-sizing: border-box;text-align: center;}#sk-container-id-2 label.sk-toggleable__label-arrow:before {content: \"▸\";float: left;margin-right: 0.25em;color: #696969;}#sk-container-id-2 label.sk-toggleable__label-arrow:hover:before {color: black;}#sk-container-id-2 div.sk-estimator:hover label.sk-toggleable__label-arrow:before {color: black;}#sk-container-id-2 div.sk-toggleable__content {max-height: 0;max-width: 0;overflow: hidden;text-align: left;background-color: #f0f8ff;}#sk-container-id-2 div.sk-toggleable__content pre {margin: 0.2em;color: black;border-radius: 0.25em;background-color: #f0f8ff;}#sk-container-id-2 input.sk-toggleable__control:checked~div.sk-toggleable__content {max-height: 200px;max-width: 100%;overflow: auto;}#sk-container-id-2 input.sk-toggleable__control:checked~label.sk-toggleable__label-arrow:before {content: \"▾\";}#sk-container-id-2 div.sk-estimator input.sk-toggleable__control:checked~label.sk-toggleable__label {background-color: #d4ebff;}#sk-container-id-2 div.sk-label input.sk-toggleable__control:checked~label.sk-toggleable__label {background-color: #d4ebff;}#sk-container-id-2 input.sk-hidden--visually {border: 0;clip: rect(1px 1px 1px 1px);clip: rect(1px, 1px, 1px, 1px);height: 1px;margin: -1px;overflow: hidden;padding: 0;position: absolute;width: 1px;}#sk-container-id-2 div.sk-estimator {font-family: monospace;background-color: #f0f8ff;border: 1px dotted black;border-radius: 0.25em;box-sizing: border-box;margin-bottom: 0.5em;}#sk-container-id-2 div.sk-estimator:hover {background-color: #d4ebff;}#sk-container-id-2 div.sk-parallel-item::after {content: \"\";width: 100%;border-bottom: 1px solid gray;flex-grow: 1;}#sk-container-id-2 div.sk-label:hover label.sk-toggleable__label {background-color: #d4ebff;}#sk-container-id-2 div.sk-serial::before {content: \"\";position: absolute;border-left: 1px solid gray;box-sizing: border-box;top: 0;bottom: 0;left: 50%;z-index: 0;}#sk-container-id-2 div.sk-serial {display: flex;flex-direction: column;align-items: center;background-color: white;padding-right: 0.2em;padding-left: 0.2em;position: relative;}#sk-container-id-2 div.sk-item {position: relative;z-index: 1;}#sk-container-id-2 div.sk-parallel {display: flex;align-items: stretch;justify-content: center;background-color: white;position: relative;}#sk-container-id-2 div.sk-item::before, #sk-container-id-2 div.sk-parallel-item::before {content: \"\";position: absolute;border-left: 1px solid gray;box-sizing: border-box;top: 0;bottom: 0;left: 50%;z-index: -1;}#sk-container-id-2 div.sk-parallel-item {display: flex;flex-direction: column;z-index: 1;position: relative;background-color: white;}#sk-container-id-2 div.sk-parallel-item:first-child::after {align-self: flex-end;width: 50%;}#sk-container-id-2 div.sk-parallel-item:last-child::after {align-self: flex-start;width: 50%;}#sk-container-id-2 div.sk-parallel-item:only-child::after {width: 0;}#sk-container-id-2 div.sk-dashed-wrapped {border: 1px dashed gray;margin: 0 0.4em 0.5em 0.4em;box-sizing: border-box;padding-bottom: 0.4em;background-color: white;}#sk-container-id-2 div.sk-label label {font-family: monospace;font-weight: bold;display: inline-block;line-height: 1.2em;}#sk-container-id-2 div.sk-label-container {text-align: center;}#sk-container-id-2 div.sk-container {\/* jupyter's `normalize.less` sets `[hidden] { display: none; }` but bootstrap.min.css set `[hidden] { display: none !important; }` so we also need the `!important` here to be able to override the default hidden behavior on the sphinx rendered scikit-learn.org. See: https:\/\/github.com\/scikit-learn\/scikit-learn\/issues\/21755 *\/display: inline-block !important;position: relative;}#sk-container-id-2 div.sk-text-repr-fallback {display: none;}<\/style><div id=\"sk-container-id-2\" class=\"sk-top-container\"><div class=\"sk-text-repr-fallback\"><pre>DecisionTreeClassifier(random_state=1)<\/pre><b>In a Jupyter environment, please rerun this cell to show the HTML representation or trust the notebook. <br \/>On GitHub, the HTML representation is unable to render, please try loading this page with nbviewer.org.<\/b><\/div><div class=\"sk-container\" hidden><div class=\"sk-item\"><div class=\"sk-estimator sk-toggleable\"><input class=\"sk-toggleable__control sk-hidden--visually\" id=\"sk-estimator-id-2\" type=\"checkbox\" checked><label for=\"sk-estimator-id-2\" class=\"sk-toggleable__label sk-toggleable__label-arrow\">DecisionTreeClassifier<\/label><div class=\"sk-toggleable__content\"><pre>DecisionTreeClassifier(random_state=1)<\/pre><\/div><\/div><\/div><\/div><\/div>"
      ]
     },
     "metadata":{
      
     },
     "output_type":"display_data"
    }
   ],
   "metadata":{
    "datalore":{
     "node_id":"POHm61iKr2IB0Ida0sASu9",
     "type":"CODE",
     "hide_input_from_viewers":true,
     "hide_output_from_viewers":true
    }
   }
  },
  {
   "cell_type":"code",
   "source":[
    "def test_model(model):\n",
    "    print(\"mean_absolute_error:\",\n",
    "        mean_absolute_error(Y_test, model.predict(X_test)))\n",
    "    print(\"median_absolute_error:\",\n",
    "        median_absolute_error(Y_test, model.predict(X_test)))\n",
    "    print(\"r2_score:\",\n",
    "        r2_score(Y_test, model.predict(X_test)))"
   ],
   "execution_count":20,
   "outputs":[
    
   ],
   "metadata":{
    "datalore":{
     "node_id":"aUvlIGxkPkygmZHrNMaqnJ",
     "type":"CODE",
     "hide_input_from_viewers":true,
     "hide_output_from_viewers":true
    }
   }
  },
  {
   "cell_type":"code",
   "source":[
    "test_model(dt_none)"
   ],
   "execution_count":21,
   "outputs":[
    {
     "name":"stdout",
     "text":[
      "mean_absolute_error: 22.029915342140523\n",
      "median_absolute_error: 16.272727272727273\n",
      "r2_score: 0.6814495088725434\n"
     ],
     "output_type":"stream"
    }
   ],
   "metadata":{
    "datalore":{
     "node_id":"5xZIFKuEZD3AAyDz9L9TR7",
     "type":"CODE",
     "hide_input_from_viewers":true,
     "hide_output_from_viewers":true
    }
   }
  },
  {
   "cell_type":"code",
   "source":[
    "tree_rules = export_text(dt_none, feature_names=list(X.columns))\n",
    "HTML('<pre>' + tree_rules + '<\/pre>')"
   ],
   "execution_count":22,
   "outputs":[
    {
     "data":{
      "text\/html":[
       "<pre>|--- LSTAT <= 11.49\n",
       "|   |--- RM <= 7.02\n",
       "|   |   |--- RM <= 6.06\n",
       "|   |   |   |--- CHAS <= 0.50\n",
       "|   |   |   |   |--- DIS <= 1.70\n",
       "|   |   |   |   |   |--- value: [49.00]\n",
       "|   |   |   |   |--- DIS >  1.70\n",
       "|   |   |   |   |   |--- value: [94.68]\n",
       "|   |   |   |--- CHAS >  0.50\n",
       "|   |   |   |   |--- value: [204.00]\n",
       "|   |   |--- RM >  6.06\n",
       "|   |   |   |--- RM <= 6.55\n",
       "|   |   |   |   |--- CRIM <= 7.53\n",
       "|   |   |   |   |   |--- value: [121.49]\n",
       "|   |   |   |   |--- CRIM >  7.53\n",
       "|   |   |   |   |   |--- value: [204.00]\n",
       "|   |   |   |--- RM >  6.55\n",
       "|   |   |   |   |--- NOX <= 0.53\n",
       "|   |   |   |   |   |--- value: [147.90]\n",
       "|   |   |   |   |--- NOX >  0.53\n",
       "|   |   |   |   |   |--- value: [121.17]\n",
       "|   |--- RM >  7.02\n",
       "|   |   |--- CRIM <= 2.74\n",
       "|   |   |   |--- RM <= 7.44\n",
       "|   |   |   |   |--- TAX <= 280.00\n",
       "|   |   |   |   |   |--- value: [177.55]\n",
       "|   |   |   |   |--- TAX >  280.00\n",
       "|   |   |   |   |   |--- value: [169.00]\n",
       "|   |   |   |--- RM >  7.44\n",
       "|   |   |   |   |--- PTRATIO <= 17.60\n",
       "|   |   |   |   |   |--- value: [200.92]\n",
       "|   |   |   |   |--- PTRATIO >  17.60\n",
       "|   |   |   |   |   |--- value: [191.40]\n",
       "|   |   |--- CRIM >  2.74\n",
       "|   |   |   |--- value: [109.00]\n",
       "|--- LSTAT >  11.49\n",
       "|   |--- NOX <= 0.61\n",
       "|   |   |--- B <= 378.08\n",
       "|   |   |   |--- AGE <= 23.80\n",
       "|   |   |   |   |--- value: [126.00]\n",
       "|   |   |   |--- AGE >  23.80\n",
       "|   |   |   |   |--- PTRATIO <= 20.60\n",
       "|   |   |   |   |   |--- value: [62.37]\n",
       "|   |   |   |   |--- PTRATIO >  20.60\n",
       "|   |   |   |   |   |--- value: [40.62]\n",
       "|   |   |--- B >  378.08\n",
       "|   |   |   |--- INDUS <= 3.23\n",
       "|   |   |   |   |--- LSTAT <= 13.56\n",
       "|   |   |   |   |   |--- value: [158.00]\n",
       "|   |   |   |   |--- LSTAT >  13.56\n",
       "|   |   |   |   |   |--- value: [141.00]\n",
       "|   |   |   |--- INDUS >  3.23\n",
       "|   |   |   |   |--- RM <= 5.92\n",
       "|   |   |   |   |   |--- value: [81.70]\n",
       "|   |   |   |   |--- RM >  5.92\n",
       "|   |   |   |   |   |--- value: [102.45]\n",
       "|   |--- NOX >  0.61\n",
       "|   |   |--- LSTAT <= 18.89\n",
       "|   |   |   |--- LSTAT <= 14.42\n",
       "|   |   |   |   |--- B <= 316.57\n",
       "|   |   |   |   |   |--- value: [99.00]\n",
       "|   |   |   |   |--- B >  316.57\n",
       "|   |   |   |   |   |--- value: [87.50]\n",
       "|   |   |   |--- LSTAT >  14.42\n",
       "|   |   |   |   |--- AGE <= 84.50\n",
       "|   |   |   |   |   |--- value: [122.00]\n",
       "|   |   |   |   |--- AGE >  84.50\n",
       "|   |   |   |   |   |--- value: [48.89]\n",
       "|   |   |--- LSTAT >  18.89\n",
       "|   |   |   |--- TAX <= 551.50\n",
       "|   |   |   |   |--- DIS <= 1.38\n",
       "|   |   |   |   |   |--- value: [29.50]\n",
       "|   |   |   |   |--- DIS >  1.38\n",
       "|   |   |   |   |   |--- value: [47.25]\n",
       "|   |   |   |--- TAX >  551.50\n",
       "|   |   |   |   |--- DIS <= 1.41\n",
       "|   |   |   |   |   |--- value: [35.50]\n",
       "|   |   |   |   |--- DIS >  1.41\n",
       "|   |   |   |   |   |--- value: [13.73]\n",
       "<\/pre>"
      ]
     },
     "metadata":{
      
     },
     "output_type":"display_data"
    }
   ],
   "metadata":{
    "datalore":{
     "node_id":"edOYkAMrAHOt9JHZtP1e8F",
     "type":"CODE",
     "hide_input_from_viewers":true,
     "hide_output_from_viewers":true
    }
   }
  },
  {
   "cell_type":"code",
   "source":[
    "def draw_feature_importances(tree_model, X_dataset, figsize=(18,5)):\n",
    "    \"\"\"\n",
    "    Вывод важности признаков в виде графика\n",
    "    \"\"\"\n",
    "    # Сортировка значений важности признаков по убыванию\n",
    "    list_to_sort = list(zip(X_dataset.columns.values, tree_model.feature_importances_))\n",
    "    sorted_list = sorted(list_to_sort, key=itemgetter(1), reverse = True)\n",
    "    # Названия признаков\n",
    "    labels = [x for x,_ in sorted_list]\n",
    "    # Важности признаков\n",
    "    data = [x for _,x in sorted_list]\n",
    "    # Вывод графика\n",
    "    fig, ax = plt.subplots(figsize=figsize)\n",
    "    ind = np.arange(len(labels))\n",
    "    plt.bar(ind, data)\n",
    "    plt.xticks(ind, labels, rotation='vertical')\n",
    "    # Вывод значений\n",
    "    for a,b in zip(ind, data):\n",
    "        plt.text(a-0.05, b+0.01, str(round(b,3)))\n",
    "    plt.show()\n",
    "    return labels, data"
   ],
   "execution_count":23,
   "outputs":[
    
   ],
   "metadata":{
    "datalore":{
     "node_id":"bZpspfAlcCfRFgAll82S5l",
     "type":"CODE",
     "hide_input_from_viewers":true,
     "hide_output_from_viewers":true
    }
   }
  },
  {
   "cell_type":"code",
   "source":[
    "dt_fl, dt_fd = draw_feature_importances(clf, X_train)"
   ],
   "execution_count":24,
   "outputs":[
    {
     "data":{
      "image\/png":"[encoded data removed]"
     },
     "metadata":{
      "image\/png":{
       
      }
     },
     "output_type":"display_data"
    }
   ],
   "metadata":{
    "datalore":{
     "node_id":"oUO2C5VqxMY9o6p2elSipX",
     "type":"CODE",
     "hide_input_from_viewers":true,
     "hide_output_from_viewers":true
    }
   }
  },
  {
   "cell_type":"markdown",
   "source":[
    "# Произведите для ĸаждой модели подбор одного гиперпараметра с использованием GridSearchCV и ĸросс-валидации."
   ],
   "attachments":{
    
   },
   "metadata":{
    "datalore":{
     "node_id":"bV3KzuSTmZLuL2zFSCCdmi",
     "type":"MD",
     "hide_input_from_viewers":true,
     "hide_output_from_viewers":true
    }
   }
  },
  {
   "cell_type":"code",
   "source":[
    "tree = DecisionTreeClassifier()\n",
    "param_grid = {'max_depth': [2, 4, 6, 8, 10],\n",
    " 'min_samples_split': [2, 4, 6, 8, 10],\n",
    " 'min_samples_leaf': [1, 2, 3, 4, 5]}\n",
    "grid_search = GridSearchCV(tree, param_grid=param_grid, cv=5)\n",
    "grid_search.fit(X_train, Y_train)\n",
    "accuracy_tree = grid_search.best_estimator_.score(X_test,Y_test)\n",
    "print(\"Наилучшие параметры: {} \", grid_search.best_params_)\n",
    "print(\"Оценка точности на кросс-валидации: {:.2f}\".format(grid_search.best_score_))\n",
    "print(accuracy_tree)"
   ],
   "execution_count":25,
   "outputs":[
    {
     "name":"stdout",
     "text":[
      "Наилучшие параметры: {}  {'max_depth': 8, 'min_samples_leaf': 4, 'min_samples_split': 10}\n",
      "Оценка точности на кросс-валидации: 0.04\n",
      "0.02531645569620253\n"
     ],
     "output_type":"stream"
    }
   ],
   "metadata":{
    "datalore":{
     "node_id":"e4L81muHH9AU0lVeOEDRsU",
     "type":"CODE",
     "hide_input_from_viewers":true,
     "hide_output_from_viewers":true
    }
   }
  },
  {
   "cell_type":"markdown",
   "source":[
    "# Сравните ĸачество полученных моделей с ĸачеством моделей"
   ],
   "attachments":{
    
   },
   "metadata":{
    "datalore":{
     "node_id":"VJZEUo9KcJKSWjOCT7PSey",
     "type":"MD",
     "hide_input_from_viewers":true,
     "hide_output_from_viewers":true
    }
   }
  },
  {
   "cell_type":"code",
   "source":[
    "models = [['DecisionTree :',DecisionTreeRegressor()]]"
   ],
   "execution_count":26,
   "outputs":[
    
   ],
   "metadata":{
    "datalore":{
     "node_id":"d7zmNq0CQxwkzenEhvtVz9",
     "type":"CODE",
     "hide_input_from_viewers":true,
     "hide_output_from_viewers":true
    }
   }
  },
  {
   "cell_type":"code",
   "source":[
    "print('Вывод 1')\n",
    "for name,model in models:\n",
    " model = model\n",
    " model.fit(X_train, Y_train)\n",
    " predictions = model.predict(X_test)\n",
    " print(name, (np.sqrt(mean_squared_error(Y_test, predictions))))"
   ],
   "execution_count":27,
   "outputs":[
    {
     "name":"stdout",
     "text":[
      "Вывод 1\n",
      "DecisionTree : 35.07027303333852\n"
     ],
     "output_type":"stream"
    }
   ],
   "metadata":{
    "datalore":{
     "node_id":"vlhW3PnqvVAuL6Mb8F5mYP",
     "type":"CODE",
     "hide_input_from_viewers":true,
     "hide_output_from_viewers":true
    }
   }
  },
  {
   "cell_type":"code",
   "source":[
    "models = [['DecisionTree :',DecisionTreeRegressor(max_depth = 8, min_samples_split = 3)],\n",
    " ['Linear Regression :', LinearRegression()],\n",
    " ['SVC :', SVC(C = 1, kernel = 'linear')]]"
   ],
   "execution_count":28,
   "outputs":[
    
   ],
   "metadata":{
    "datalore":{
     "node_id":"3pB6YUEUWwla4U5dPOZ0k4",
     "type":"CODE",
     "hide_input_from_viewers":true,
     "hide_output_from_viewers":true
    }
   }
  },
  {
   "cell_type":"code",
   "source":[
    "print('Вывод 2')\n",
    "for name,model in models:\n",
    "    model = model\n",
    "    model.fit(X_train, Y_train)\n",
    "    predictions = model.predict(X_test)\n",
    "    print(name, (np.sqrt(mean_squared_error(Y_test, predictions))))"
   ],
   "execution_count":29,
   "outputs":[
    {
     "name":"stdout",
     "text":[
      "Вывод 2\n",
      "DecisionTree : 31.111964039355797\n",
      "Linear Regression : 23.305947358214087\n",
      "SVC : 33.417572880375225\n"
     ],
     "output_type":"stream"
    }
   ],
   "metadata":{
    "datalore":{
     "node_id":"ROdHZZOSbPFFIVgzmEv0oI",
     "type":"CODE",
     "hide_input_from_viewers":true,
     "hide_output_from_viewers":true
    }
   }
  }
 ],
 "metadata":{
  "kernelspec":{
   "display_name":"Python",
   "language":"python",
   "name":"python"
  },
  "datalore":{
   "computation_mode":"JUPYTER",
   "package_manager":"pip",
   "base_environment":"default",
   "packages":[
    
   ],
   "report_row_ids":[
    
   ],
   "version":3
  }
 },
 "nbformat":4,
 "nbformat_minor":4
}